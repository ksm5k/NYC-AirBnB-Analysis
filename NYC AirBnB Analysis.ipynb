{
 "cells": [
  {
   "cell_type": "markdown",
   "id": "cd9a4213",
   "metadata": {},
   "source": [
    "# Analysis of New York City AirBnB Listings"
   ]
  },
  {
   "cell_type": "markdown",
   "id": "5b3adea1",
   "metadata": {},
   "source": [
    "The dataset contains information describing New York City AirBnB listings, such as the price to book a stay at the listing for a night and the neighbourhood the unit is located in. Such information could be useful for someone interested in using AirBnB to host a rental unit in New York City. I will approach this project as if the client is trying to gain insights about the demand for rentals of different room types in the different NYC boroughs.\n",
    "\n",
    "Some questions I aim to answer are as follows:\n",
    "- Which boroughs in New York City have the most and least rental properties available?\n",
    "- Which room type is most and least available on AirBnB in NYC?\n",
    "- What is the average nightly rental price by borough?\n",
    "- What is the average nightly rental price by room type?\n",
    "- What is the average nightly rental price by room type and borough?\n",
    "- What room type is most available in each borough?"
   ]
  },
  {
   "cell_type": "markdown",
   "id": "38682728",
   "metadata": {},
   "source": [
    "## 1. Importing Libraries and Data"
   ]
  },
  {
   "cell_type": "markdown",
   "id": "9814d6eb",
   "metadata": {},
   "source": [
    "### Import Pandas, NumPy, Matplotlib, and Seaborn"
   ]
  },
  {
   "cell_type": "markdown",
   "id": "8512361f",
   "metadata": {},
   "source": [
    "We will use Pandas to create and manipulate data frames. NumPy will allow us to work with arrays and perform mathematical functions on the data. Matplotlib and Seaborn will be used for visualizations."
   ]
  },
  {
   "cell_type": "code",
   "execution_count": 6,
   "id": "c15f6fbf",
   "metadata": {},
   "outputs": [],
   "source": [
    "import pandas as pd\n",
    "import numpy as np \n",
    "import matplotlib.pyplot as plt\n",
    "import seaborn as sns"
   ]
  },
  {
   "cell_type": "markdown",
   "id": "0000a7bf",
   "metadata": {},
   "source": [
    "### Read the Dataset In and Create a Dataframe"
   ]
  },
  {
   "cell_type": "markdown",
   "id": "5c9aacf6",
   "metadata": {},
   "source": [
    "Use Pandas to read in our data from a csv and store it as a dataframe."
   ]
  },
  {
   "cell_type": "code",
   "execution_count": 9,
   "id": "9a66a173",
   "metadata": {},
   "outputs": [],
   "source": [
    "df = pd.read_csv(\"airbnb.csv\")"
   ]
  },
  {
   "cell_type": "markdown",
   "id": "e0b97086",
   "metadata": {},
   "source": [
    "## View the Dataframe "
   ]
  },
  {
   "cell_type": "markdown",
   "id": "9b4dc836",
   "metadata": {},
   "source": [
    "Viewing the dataframe lets us see its structure. We can see the size of the dataframe. The number of rows in the dataframe tells us how many listings are in the dataset, and the number of columns tells us how many characteristics we have to describe the listings. We can read through several rows to understand more about the content of the data we are working with."
   ]
  },
  {
   "cell_type": "code",
   "execution_count": 12,
   "id": "5ded062c",
   "metadata": {},
   "outputs": [
    {
     "data": {
      "text/html": [
       "<div>\n",
       "<style scoped>\n",
       "    .dataframe tbody tr th:only-of-type {\n",
       "        vertical-align: middle;\n",
       "    }\n",
       "\n",
       "    .dataframe tbody tr th {\n",
       "        vertical-align: top;\n",
       "    }\n",
       "\n",
       "    .dataframe thead th {\n",
       "        text-align: right;\n",
       "    }\n",
       "</style>\n",
       "<table border=\"1\" class=\"dataframe\">\n",
       "  <thead>\n",
       "    <tr style=\"text-align: right;\">\n",
       "      <th></th>\n",
       "      <th>Host Id</th>\n",
       "      <th>Host Since</th>\n",
       "      <th>Name</th>\n",
       "      <th>Neighbourhood</th>\n",
       "      <th>Property Type</th>\n",
       "      <th>Review Scores Rating (bin)</th>\n",
       "      <th>Room Type</th>\n",
       "      <th>Zipcode</th>\n",
       "      <th>Beds</th>\n",
       "      <th>Number of Records</th>\n",
       "      <th>Number Of Reviews</th>\n",
       "      <th>Price</th>\n",
       "      <th>Review Scores Rating</th>\n",
       "    </tr>\n",
       "  </thead>\n",
       "  <tbody>\n",
       "    <tr>\n",
       "      <th>0</th>\n",
       "      <td>5162530</td>\n",
       "      <td>NaN</td>\n",
       "      <td>1 Bedroom in Prime Williamsburg</td>\n",
       "      <td>Brooklyn</td>\n",
       "      <td>Apartment</td>\n",
       "      <td>NaN</td>\n",
       "      <td>Entire home/apt</td>\n",
       "      <td>11249.0</td>\n",
       "      <td>1.0</td>\n",
       "      <td>1</td>\n",
       "      <td>0</td>\n",
       "      <td>145</td>\n",
       "      <td>NaN</td>\n",
       "    </tr>\n",
       "    <tr>\n",
       "      <th>1</th>\n",
       "      <td>33134899</td>\n",
       "      <td>NaN</td>\n",
       "      <td>Sunny, Private room in Bushwick</td>\n",
       "      <td>Brooklyn</td>\n",
       "      <td>Apartment</td>\n",
       "      <td>NaN</td>\n",
       "      <td>Private room</td>\n",
       "      <td>11206.0</td>\n",
       "      <td>1.0</td>\n",
       "      <td>1</td>\n",
       "      <td>1</td>\n",
       "      <td>37</td>\n",
       "      <td>NaN</td>\n",
       "    </tr>\n",
       "    <tr>\n",
       "      <th>2</th>\n",
       "      <td>39608626</td>\n",
       "      <td>NaN</td>\n",
       "      <td>Sunny Room in Harlem</td>\n",
       "      <td>Manhattan</td>\n",
       "      <td>Apartment</td>\n",
       "      <td>NaN</td>\n",
       "      <td>Private room</td>\n",
       "      <td>10032.0</td>\n",
       "      <td>1.0</td>\n",
       "      <td>1</td>\n",
       "      <td>1</td>\n",
       "      <td>28</td>\n",
       "      <td>NaN</td>\n",
       "    </tr>\n",
       "    <tr>\n",
       "      <th>3</th>\n",
       "      <td>500</td>\n",
       "      <td>6/26/2008</td>\n",
       "      <td>Gorgeous 1 BR with Private Balcony</td>\n",
       "      <td>Manhattan</td>\n",
       "      <td>Apartment</td>\n",
       "      <td>NaN</td>\n",
       "      <td>Entire home/apt</td>\n",
       "      <td>10024.0</td>\n",
       "      <td>3.0</td>\n",
       "      <td>1</td>\n",
       "      <td>0</td>\n",
       "      <td>199</td>\n",
       "      <td>NaN</td>\n",
       "    </tr>\n",
       "    <tr>\n",
       "      <th>4</th>\n",
       "      <td>500</td>\n",
       "      <td>6/26/2008</td>\n",
       "      <td>Trendy Times Square Loft</td>\n",
       "      <td>Manhattan</td>\n",
       "      <td>Apartment</td>\n",
       "      <td>95.0</td>\n",
       "      <td>Private room</td>\n",
       "      <td>10036.0</td>\n",
       "      <td>3.0</td>\n",
       "      <td>1</td>\n",
       "      <td>39</td>\n",
       "      <td>549</td>\n",
       "      <td>96.0</td>\n",
       "    </tr>\n",
       "    <tr>\n",
       "      <th>...</th>\n",
       "      <td>...</td>\n",
       "      <td>...</td>\n",
       "      <td>...</td>\n",
       "      <td>...</td>\n",
       "      <td>...</td>\n",
       "      <td>...</td>\n",
       "      <td>...</td>\n",
       "      <td>...</td>\n",
       "      <td>...</td>\n",
       "      <td>...</td>\n",
       "      <td>...</td>\n",
       "      <td>...</td>\n",
       "      <td>...</td>\n",
       "    </tr>\n",
       "    <tr>\n",
       "      <th>30473</th>\n",
       "      <td>43022976</td>\n",
       "      <td>8/31/2015</td>\n",
       "      <td>10 Mins to Time Square/two floors</td>\n",
       "      <td>Queens</td>\n",
       "      <td>Apartment</td>\n",
       "      <td>NaN</td>\n",
       "      <td>Entire home/apt</td>\n",
       "      <td>11101.0</td>\n",
       "      <td>5.0</td>\n",
       "      <td>1</td>\n",
       "      <td>0</td>\n",
       "      <td>300</td>\n",
       "      <td>NaN</td>\n",
       "    </tr>\n",
       "    <tr>\n",
       "      <th>30474</th>\n",
       "      <td>42993382</td>\n",
       "      <td>8/31/2015</td>\n",
       "      <td>1BR ocean view &amp; F,Q train st</td>\n",
       "      <td>Brooklyn</td>\n",
       "      <td>Apartment</td>\n",
       "      <td>NaN</td>\n",
       "      <td>Private room</td>\n",
       "      <td>11224.0</td>\n",
       "      <td>2.0</td>\n",
       "      <td>1</td>\n",
       "      <td>0</td>\n",
       "      <td>125</td>\n",
       "      <td>NaN</td>\n",
       "    </tr>\n",
       "    <tr>\n",
       "      <th>30475</th>\n",
       "      <td>43033067</td>\n",
       "      <td>8/31/2015</td>\n",
       "      <td>Amazing Private Room</td>\n",
       "      <td>Brooklyn</td>\n",
       "      <td>Other</td>\n",
       "      <td>NaN</td>\n",
       "      <td>Private room</td>\n",
       "      <td>11206.0</td>\n",
       "      <td>1.0</td>\n",
       "      <td>1</td>\n",
       "      <td>0</td>\n",
       "      <td>80</td>\n",
       "      <td>NaN</td>\n",
       "    </tr>\n",
       "    <tr>\n",
       "      <th>30476</th>\n",
       "      <td>43000991</td>\n",
       "      <td>8/31/2015</td>\n",
       "      <td>Charming private female room: UWS</td>\n",
       "      <td>Manhattan</td>\n",
       "      <td>Apartment</td>\n",
       "      <td>NaN</td>\n",
       "      <td>Private room</td>\n",
       "      <td>10025.0</td>\n",
       "      <td>1.0</td>\n",
       "      <td>1</td>\n",
       "      <td>0</td>\n",
       "      <td>35</td>\n",
       "      <td>NaN</td>\n",
       "    </tr>\n",
       "    <tr>\n",
       "      <th>30477</th>\n",
       "      <td>42999189</td>\n",
       "      <td>8/31/2015</td>\n",
       "      <td>Huge Beautiful Bedroom - Astoria</td>\n",
       "      <td>Queens</td>\n",
       "      <td>House</td>\n",
       "      <td>NaN</td>\n",
       "      <td>Private room</td>\n",
       "      <td>11105.0</td>\n",
       "      <td>1.0</td>\n",
       "      <td>1</td>\n",
       "      <td>0</td>\n",
       "      <td>80</td>\n",
       "      <td>NaN</td>\n",
       "    </tr>\n",
       "  </tbody>\n",
       "</table>\n",
       "<p>30478 rows × 13 columns</p>\n",
       "</div>"
      ],
      "text/plain": [
       "        Host Id Host Since                                Name Neighbourhood   \\\n",
       "0       5162530        NaN     1 Bedroom in Prime Williamsburg       Brooklyn   \n",
       "1      33134899        NaN     Sunny, Private room in Bushwick       Brooklyn   \n",
       "2      39608626        NaN                Sunny Room in Harlem      Manhattan   \n",
       "3           500  6/26/2008  Gorgeous 1 BR with Private Balcony      Manhattan   \n",
       "4           500  6/26/2008            Trendy Times Square Loft      Manhattan   \n",
       "...         ...        ...                                 ...            ...   \n",
       "30473  43022976  8/31/2015   10 Mins to Time Square/two floors         Queens   \n",
       "30474  42993382  8/31/2015       1BR ocean view & F,Q train st       Brooklyn   \n",
       "30475  43033067  8/31/2015                Amazing Private Room       Brooklyn   \n",
       "30476  43000991  8/31/2015   Charming private female room: UWS      Manhattan   \n",
       "30477  42999189  8/31/2015    Huge Beautiful Bedroom - Astoria         Queens   \n",
       "\n",
       "      Property Type  Review Scores Rating (bin)        Room Type  Zipcode  \\\n",
       "0         Apartment                         NaN  Entire home/apt  11249.0   \n",
       "1         Apartment                         NaN     Private room  11206.0   \n",
       "2         Apartment                         NaN     Private room  10032.0   \n",
       "3         Apartment                         NaN  Entire home/apt  10024.0   \n",
       "4         Apartment                        95.0     Private room  10036.0   \n",
       "...             ...                         ...              ...      ...   \n",
       "30473     Apartment                         NaN  Entire home/apt  11101.0   \n",
       "30474     Apartment                         NaN     Private room  11224.0   \n",
       "30475         Other                         NaN     Private room  11206.0   \n",
       "30476     Apartment                         NaN     Private room  10025.0   \n",
       "30477         House                         NaN     Private room  11105.0   \n",
       "\n",
       "       Beds  Number of Records  Number Of Reviews Price  Review Scores Rating  \n",
       "0       1.0                  1                  0   145                   NaN  \n",
       "1       1.0                  1                  1    37                   NaN  \n",
       "2       1.0                  1                  1    28                   NaN  \n",
       "3       3.0                  1                  0   199                   NaN  \n",
       "4       3.0                  1                 39   549                  96.0  \n",
       "...     ...                ...                ...   ...                   ...  \n",
       "30473   5.0                  1                  0   300                   NaN  \n",
       "30474   2.0                  1                  0   125                   NaN  \n",
       "30475   1.0                  1                  0    80                   NaN  \n",
       "30476   1.0                  1                  0    35                   NaN  \n",
       "30477   1.0                  1                  0    80                   NaN  \n",
       "\n",
       "[30478 rows x 13 columns]"
      ]
     },
     "execution_count": 12,
     "metadata": {},
     "output_type": "execute_result"
    }
   ],
   "source": [
    "df"
   ]
  },
  {
   "cell_type": "markdown",
   "id": "0d167dc4",
   "metadata": {},
   "source": [
    "By reviewing the dataset, we see that we are working with numeric and text data. Our dataset contains some invalid data (cells with NaN values). The \"Host Since\" column contains dates. We can use the Pandas function \"dtypes\" to see the data type of each column in the dataframe."
   ]
  },
  {
   "cell_type": "code",
   "execution_count": 14,
   "id": "6143194e",
   "metadata": {
    "scrolled": true
   },
   "outputs": [
    {
     "name": "stdout",
     "output_type": "stream",
     "text": [
      "Host Id                         int64\n",
      "Host Since                     object\n",
      "Name                           object\n",
      "Neighbourhood                  object\n",
      "Property Type                  object\n",
      "Review Scores Rating (bin)    float64\n",
      "Room Type                      object\n",
      "Zipcode                       float64\n",
      "Beds                          float64\n",
      "Number of Records               int64\n",
      "Number Of Reviews               int64\n",
      "Price                          object\n",
      "Review Scores Rating          float64\n",
      "dtype: object\n"
     ]
    }
   ],
   "source": [
    "print(df.dtypes)"
   ]
  },
  {
   "cell_type": "markdown",
   "id": "fa243d5a",
   "metadata": {},
   "source": [
    "# 2. Clean the Data"
   ]
  },
  {
   "cell_type": "markdown",
   "id": "a5952216",
   "metadata": {},
   "source": [
    "## Eliminate Non-Essential Data"
   ]
  },
  {
   "cell_type": "markdown",
   "id": "be51dbd4",
   "metadata": {},
   "source": [
    "Some of the data is not necessary given the scope of this project. For simplicity, I will remove these columns."
   ]
  },
  {
   "cell_type": "code",
   "execution_count": 18,
   "id": "8c01b6be",
   "metadata": {},
   "outputs": [],
   "source": [
    "df = df.drop('Host Id', axis=1)\n",
    "df = df.drop('Host Since', axis=1)\n",
    "df = df.drop('Name', axis=1)\n",
    "df = df.drop('Review Scores Rating (bin)', axis=1)\n",
    "df = df.drop('Number of Records', axis=1)\n",
    "df = df.drop('Number Of Reviews', axis=1)\n",
    "df = df.drop('Review Scores Rating', axis=1)\n",
    "df = df.drop('Zipcode', axis=1)\n",
    "df = df.drop('Property Type', axis=1)"
   ]
  },
  {
   "cell_type": "markdown",
   "id": "d8983a07",
   "metadata": {},
   "source": [
    "## Remove Null Values"
   ]
  },
  {
   "cell_type": "markdown",
   "id": "a3fb6c72",
   "metadata": {},
   "source": [
    "Similarly, I will simply remove rows with null values in the \"Beds\" column."
   ]
  },
  {
   "cell_type": "code",
   "execution_count": 21,
   "id": "1fa58145",
   "metadata": {},
   "outputs": [
    {
     "name": "stderr",
     "output_type": "stream",
     "text": [
      "C:\\Users\\Kristen Shae\\AppData\\Local\\Temp\\ipykernel_7944\\2758394035.py:1: FutureWarning: A value is trying to be set on a copy of a DataFrame or Series through chained assignment using an inplace method.\n",
      "The behavior will change in pandas 3.0. This inplace method will never work because the intermediate object on which we are setting values always behaves as a copy.\n",
      "\n",
      "For example, when doing 'df[col].method(value, inplace=True)', try using 'df.method({col: value}, inplace=True)' or df[col] = df[col].method(value) instead, to perform the operation inplace on the original object.\n",
      "\n",
      "\n",
      "  df['Beds'].replace('', np.nan, inplace=True)\n",
      "C:\\Users\\Kristen Shae\\AppData\\Local\\Temp\\ipykernel_7944\\2758394035.py:2: FutureWarning: A value is trying to be set on a copy of a DataFrame or Series through chained assignment using an inplace method.\n",
      "The behavior will change in pandas 3.0. This inplace method will never work because the intermediate object on which we are setting values always behaves as a copy.\n",
      "\n",
      "For example, when doing 'df[col].method(value, inplace=True)', try using 'df.method({col: value}, inplace=True)' or df[col] = df[col].method(value) instead, to perform the operation inplace on the original object.\n",
      "\n",
      "\n",
      "  df['Neighbourhood '].replace('', np.nan, inplace=True)\n",
      "C:\\Users\\Kristen Shae\\AppData\\Local\\Temp\\ipykernel_7944\\2758394035.py:3: FutureWarning: A value is trying to be set on a copy of a DataFrame or Series through chained assignment using an inplace method.\n",
      "The behavior will change in pandas 3.0. This inplace method will never work because the intermediate object on which we are setting values always behaves as a copy.\n",
      "\n",
      "For example, when doing 'df[col].method(value, inplace=True)', try using 'df.method({col: value}, inplace=True)' or df[col] = df[col].method(value) instead, to perform the operation inplace on the original object.\n",
      "\n",
      "\n",
      "  df['Room Type'].replace('', np.nan, inplace=True)\n",
      "C:\\Users\\Kristen Shae\\AppData\\Local\\Temp\\ipykernel_7944\\2758394035.py:4: FutureWarning: A value is trying to be set on a copy of a DataFrame or Series through chained assignment using an inplace method.\n",
      "The behavior will change in pandas 3.0. This inplace method will never work because the intermediate object on which we are setting values always behaves as a copy.\n",
      "\n",
      "For example, when doing 'df[col].method(value, inplace=True)', try using 'df.method({col: value}, inplace=True)' or df[col] = df[col].method(value) instead, to perform the operation inplace on the original object.\n",
      "\n",
      "\n",
      "  df['Price'].replace('', np.nan, inplace=True)\n"
     ]
    }
   ],
   "source": [
    "df['Beds'].replace('', np.nan, inplace=True)\n",
    "df['Neighbourhood '].replace('', np.nan, inplace=True)\n",
    "df['Room Type'].replace('', np.nan, inplace=True)\n",
    "df['Price'].replace('', np.nan, inplace=True)"
   ]
  },
  {
   "cell_type": "code",
   "execution_count": 22,
   "id": "9d45d75e",
   "metadata": {},
   "outputs": [
    {
     "name": "stdout",
     "output_type": "stream",
     "text": [
      "85\n",
      "0\n",
      "0\n",
      "0\n"
     ]
    }
   ],
   "source": [
    "print(df['Beds'].isnull().sum())\n",
    "print(df['Neighbourhood '].isnull().sum())\n",
    "print(df['Room Type'].isnull().sum())\n",
    "print(df['Price'].isnull().sum())"
   ]
  },
  {
   "cell_type": "code",
   "execution_count": 23,
   "id": "f9f2547d",
   "metadata": {},
   "outputs": [],
   "source": [
    "df.dropna(subset=['Beds'], inplace=True)"
   ]
  },
  {
   "cell_type": "code",
   "execution_count": 24,
   "id": "ebeb89ab",
   "metadata": {},
   "outputs": [
    {
     "name": "stdout",
     "output_type": "stream",
     "text": [
      "0\n"
     ]
    }
   ],
   "source": [
    "print(df['Beds'].isnull().sum())"
   ]
  },
  {
   "cell_type": "code",
   "execution_count": 25,
   "id": "c2be932d",
   "metadata": {},
   "outputs": [],
   "source": [
    "df.dropna(subset=['Price'], inplace=True)"
   ]
  },
  {
   "cell_type": "markdown",
   "id": "f4333ab8",
   "metadata": {},
   "source": [
    "## Eliminate Commas from Numeric Values"
   ]
  },
  {
   "cell_type": "markdown",
   "id": "b9fba25f",
   "metadata": {},
   "source": [
    "We must remove commas from the numeric values in the \"Price\" column in order to use them for analysis. For example, we need to convert the data type of \"Price\" to integer, and this can only be done if numbers are written "
   ]
  },
  {
   "cell_type": "code",
   "execution_count": 28,
   "id": "6ca9806a",
   "metadata": {},
   "outputs": [],
   "source": [
    "df['Price']=df['Price'].str.replace(',','')"
   ]
  },
  {
   "cell_type": "markdown",
   "id": "a6736cf6",
   "metadata": {},
   "source": [
    "## Convert Data Types"
   ]
  },
  {
   "cell_type": "markdown",
   "id": "f6cebd62",
   "metadata": {},
   "source": [
    "Our remaining columns of data will be easier to work with if we convert their data types to be more specific and accurate."
   ]
  },
  {
   "cell_type": "code",
   "execution_count": 31,
   "id": "6da902fd",
   "metadata": {},
   "outputs": [],
   "source": [
    "df['Room Type'] = df['Room Type'].astype(str)\n",
    "df['Neighbourhood '] = df['Neighbourhood '].astype(str)"
   ]
  },
  {
   "cell_type": "code",
   "execution_count": 32,
   "id": "d85a1238",
   "metadata": {},
   "outputs": [],
   "source": [
    "df['Beds'] = df['Beds'].astype(int)\n",
    "df['Price'] = df['Price'].astype(int)"
   ]
  },
  {
   "cell_type": "markdown",
   "id": "0a6d52d2",
   "metadata": {},
   "source": [
    "We can quickly review our dataframe again after making the previous changes."
   ]
  },
  {
   "cell_type": "code",
   "execution_count": 34,
   "id": "f0893e59",
   "metadata": {},
   "outputs": [
    {
     "data": {
      "text/html": [
       "<div>\n",
       "<style scoped>\n",
       "    .dataframe tbody tr th:only-of-type {\n",
       "        vertical-align: middle;\n",
       "    }\n",
       "\n",
       "    .dataframe tbody tr th {\n",
       "        vertical-align: top;\n",
       "    }\n",
       "\n",
       "    .dataframe thead th {\n",
       "        text-align: right;\n",
       "    }\n",
       "</style>\n",
       "<table border=\"1\" class=\"dataframe\">\n",
       "  <thead>\n",
       "    <tr style=\"text-align: right;\">\n",
       "      <th></th>\n",
       "      <th>Neighbourhood</th>\n",
       "      <th>Room Type</th>\n",
       "      <th>Beds</th>\n",
       "      <th>Price</th>\n",
       "    </tr>\n",
       "  </thead>\n",
       "  <tbody>\n",
       "    <tr>\n",
       "      <th>0</th>\n",
       "      <td>Brooklyn</td>\n",
       "      <td>Entire home/apt</td>\n",
       "      <td>1</td>\n",
       "      <td>145</td>\n",
       "    </tr>\n",
       "    <tr>\n",
       "      <th>1</th>\n",
       "      <td>Brooklyn</td>\n",
       "      <td>Private room</td>\n",
       "      <td>1</td>\n",
       "      <td>37</td>\n",
       "    </tr>\n",
       "    <tr>\n",
       "      <th>2</th>\n",
       "      <td>Manhattan</td>\n",
       "      <td>Private room</td>\n",
       "      <td>1</td>\n",
       "      <td>28</td>\n",
       "    </tr>\n",
       "    <tr>\n",
       "      <th>3</th>\n",
       "      <td>Manhattan</td>\n",
       "      <td>Entire home/apt</td>\n",
       "      <td>3</td>\n",
       "      <td>199</td>\n",
       "    </tr>\n",
       "    <tr>\n",
       "      <th>4</th>\n",
       "      <td>Manhattan</td>\n",
       "      <td>Private room</td>\n",
       "      <td>3</td>\n",
       "      <td>549</td>\n",
       "    </tr>\n",
       "    <tr>\n",
       "      <th>...</th>\n",
       "      <td>...</td>\n",
       "      <td>...</td>\n",
       "      <td>...</td>\n",
       "      <td>...</td>\n",
       "    </tr>\n",
       "    <tr>\n",
       "      <th>30473</th>\n",
       "      <td>Queens</td>\n",
       "      <td>Entire home/apt</td>\n",
       "      <td>5</td>\n",
       "      <td>300</td>\n",
       "    </tr>\n",
       "    <tr>\n",
       "      <th>30474</th>\n",
       "      <td>Brooklyn</td>\n",
       "      <td>Private room</td>\n",
       "      <td>2</td>\n",
       "      <td>125</td>\n",
       "    </tr>\n",
       "    <tr>\n",
       "      <th>30475</th>\n",
       "      <td>Brooklyn</td>\n",
       "      <td>Private room</td>\n",
       "      <td>1</td>\n",
       "      <td>80</td>\n",
       "    </tr>\n",
       "    <tr>\n",
       "      <th>30476</th>\n",
       "      <td>Manhattan</td>\n",
       "      <td>Private room</td>\n",
       "      <td>1</td>\n",
       "      <td>35</td>\n",
       "    </tr>\n",
       "    <tr>\n",
       "      <th>30477</th>\n",
       "      <td>Queens</td>\n",
       "      <td>Private room</td>\n",
       "      <td>1</td>\n",
       "      <td>80</td>\n",
       "    </tr>\n",
       "  </tbody>\n",
       "</table>\n",
       "<p>30393 rows × 4 columns</p>\n",
       "</div>"
      ],
      "text/plain": [
       "      Neighbourhood         Room Type  Beds  Price\n",
       "0           Brooklyn  Entire home/apt     1    145\n",
       "1           Brooklyn     Private room     1     37\n",
       "2          Manhattan     Private room     1     28\n",
       "3          Manhattan  Entire home/apt     3    199\n",
       "4          Manhattan     Private room     3    549\n",
       "...              ...              ...   ...    ...\n",
       "30473         Queens  Entire home/apt     5    300\n",
       "30474       Brooklyn     Private room     2    125\n",
       "30475       Brooklyn     Private room     1     80\n",
       "30476      Manhattan     Private room     1     35\n",
       "30477         Queens     Private room     1     80\n",
       "\n",
       "[30393 rows x 4 columns]"
      ]
     },
     "execution_count": 34,
     "metadata": {},
     "output_type": "execute_result"
    }
   ],
   "source": [
    "df"
   ]
  },
  {
   "cell_type": "code",
   "execution_count": 35,
   "id": "ffa16a5f",
   "metadata": {},
   "outputs": [
    {
     "name": "stdout",
     "output_type": "stream",
     "text": [
      "Neighbourhood     object\n",
      "Room Type         object\n",
      "Beds               int32\n",
      "Price              int32\n",
      "dtype: object\n"
     ]
    }
   ],
   "source": [
    "print(df.dtypes)"
   ]
  },
  {
   "cell_type": "markdown",
   "id": "8f207ee7",
   "metadata": {},
   "source": [
    "# 3. Create Visualizations"
   ]
  },
  {
   "cell_type": "markdown",
   "id": "8cbbf59d",
   "metadata": {},
   "source": [
    "There are various visualizations we can create to portray relationships between our variables."
   ]
  },
  {
   "cell_type": "markdown",
   "id": "4996b304",
   "metadata": {},
   "source": [
    "## Visualize the Average AirBnB Listing Prices in Each NYC Borough?"
   ]
  },
  {
   "cell_type": "markdown",
   "id": "700894ad",
   "metadata": {},
   "source": [
    "Print the list of unique \"Neighborhood\" values so going forward we know exactly what values should be represented in our visualization."
   ]
  },
  {
   "cell_type": "code",
   "execution_count": 40,
   "id": "31be280c",
   "metadata": {},
   "outputs": [
    {
     "name": "stdout",
     "output_type": "stream",
     "text": [
      "['Brooklyn' 'Manhattan' 'Queens' 'Bronx' 'Staten Island']\n"
     ]
    }
   ],
   "source": [
    "print(df['Neighbourhood '].unique())"
   ]
  },
  {
   "cell_type": "markdown",
   "id": "37bfb365",
   "metadata": {},
   "source": [
    "Use pandas to calculate and store the average price of AirBnB listings in each neighborhood. These averages are calculated using values stored in the \"Neighbourhood\" and \"Price\" columns of our dataframe."
   ]
  },
  {
   "cell_type": "code",
   "execution_count": 42,
   "id": "a30c6aeb",
   "metadata": {},
   "outputs": [],
   "source": [
    "avg_Brooklyn_price = df.loc[df['Neighbourhood '] == 'Brooklyn', 'Price'].mean()\n",
    "avg_Manhattan_price = df.loc[df['Neighbourhood '] == 'Manhattan', 'Price'].mean()\n",
    "avg_Queens_price = df.loc[df['Neighbourhood '] == 'Queens', 'Price'].mean()\n",
    "avg_Bronx_price = df.loc[df['Neighbourhood '] == 'Bronx', 'Price'].mean()\n",
    "avg_Staten_Island_price = df.loc[df['Neighbourhood '] == 'Staten Island', 'Price'].mean()"
   ]
  },
  {
   "cell_type": "markdown",
   "id": "88e95827",
   "metadata": {},
   "source": [
    "Now we use Matplotlib to create our visualization. We will create a bar chart."
   ]
  },
  {
   "cell_type": "code",
   "execution_count": 44,
   "id": "04228551",
   "metadata": {},
   "outputs": [
    {
     "data": {
      "image/png": "[encoded data removed]",
      "text/plain": [
       "<Figure size 1000x500 with 1 Axes>"
      ]
     },
     "metadata": {},
     "output_type": "display_data"
    }
   ],
   "source": [
    "# creating the dataset\n",
    "data = {'Bronx': avg_Bronx_price, 'Brooklyn': avg_Brooklyn_price, 'Manhattan': avg_Manhattan_price, 'Queens': avg_Queens_price,\n",
    "        'Staten Island': avg_Staten_Island_price}\n",
    "data = dict(sorted(data.items(), key=lambda item: item[1]))\n",
    "neighborhoods = list(data.keys())\n",
    "avg_prices = list(data.values())\n",
    "  \n",
    "fig = plt.figure(figsize = (10, 5))\n",
    " \n",
    "# creating the bar plot\n",
    "sns.set_style(\"dark\", {\"grid.color\": \"#988686\", \"axes.grid\": True, \"axes.facecolor\": \"#222222\", \"axes.edgecolor\":\"#222222\", \"font.family\":\"Franklin Gothic Medium\"})\n",
    "\n",
    "plt.barh(neighborhoods, avg_prices, color = \"#4A94A8\")\n",
    "plt.grid(axis=\"y\")\n",
    " \n",
    "plt.xlabel(\"Price\")\n",
    "plt.ylabel(\"Neighborhood\")\n",
    "plt.title(\"Average Nightly AirBnB Rental Price by NYC Borough\", fontsize=20)\n",
    "plt.show()"
   ]
  },
  {
   "cell_type": "markdown",
   "id": "8c6e7a87",
   "metadata": {},
   "source": [
    "Manhattan has the highest nightly listing price, the Bronx has the lowest. Here we see that there is roughly a $100 difference between average AirBnB listing prices by NYC neighborhoods. It would be useful to gather data related to prices of units for purchase to further evaluate which neighborhood may yield the highest longterm profits. Also, additional data related to most visited neighborhoods in NYC may be beneficial in this regard."
   ]
  },
  {
   "cell_type": "markdown",
   "id": "da401dd5",
   "metadata": {},
   "source": [
    "## Visualize the Number of Listings in Each NYC Borough"
   ]
  },
  {
   "cell_type": "markdown",
   "id": "bcd32736",
   "metadata": {},
   "source": [
    "First we calculate and store the number of each listing."
   ]
  },
  {
   "cell_type": "code",
   "execution_count": 48,
   "id": "0e7435b6",
   "metadata": {},
   "outputs": [],
   "source": [
    "count_Brooklyn_listings = len(df[df['Neighbourhood ']=='Brooklyn'])\n",
    "count_Manhattan_listings = len(df[df['Neighbourhood ']=='Manhattan'])\n",
    "count_Queens_listings = len(df[df['Neighbourhood ']=='Queens'])\n",
    "count_Bronx_listings = len(df[df['Neighbourhood ']=='Bronx'])\n",
    "count_Staten_Island_listings = len(df[df['Neighbourhood ']=='Staten Island'])"
   ]
  },
  {
   "cell_type": "markdown",
   "id": "958705a7",
   "metadata": {},
   "source": [
    "Then we create another bar chart using Matplotlib."
   ]
  },
  {
   "cell_type": "code",
   "execution_count": 50,
   "id": "dd7d81b7",
   "metadata": {},
   "outputs": [
    {
     "data": {
      "image/png": "[encoded data removed]",
      "text/plain": [
       "<Figure size 1000x500 with 1 Axes>"
      ]
     },
     "metadata": {},
     "output_type": "display_data"
    }
   ],
   "source": [
    "# creating the dataset\n",
    "data = {'Bronx': count_Bronx_listings, 'Brooklyn': count_Brooklyn_listings, 'Manhattan': count_Manhattan_listings, 'Queens': count_Queens_listings,\n",
    "        'Staten Island': count_Staten_Island_listings}\n",
    "data = dict(sorted(data.items(), key=lambda item: item[1]))\n",
    "neighborhoods = list(data.keys())\n",
    "listing_counts = list(data.values())\n",
    "  \n",
    "fig = plt.figure(figsize = (10, 5))\n",
    "\n",
    "# creating the bar plot\n",
    "sns.set_style(\"dark\", {\"grid.color\": \"#988686\", \"axes.grid\": True, \"axes.facecolor\": \"#222222\", \"axes.edgecolor\":\"#222222\", \"font.family\":\"Franklin Gothic Medium\"})\n",
    " \n",
    "# creating the bar plot\n",
    "plt.barh(neighborhoods, listing_counts, color = \"#4A94A8\")\n",
    " \n",
    "plt.ylabel(\"Neighbourhood\")\n",
    "plt.xlabel(\"Count\")\n",
    "plt.title(\"Number of AirBnB Listings in NYC Boroughs\")\n",
    "plt.show()"
   ]
  },
  {
   "cell_type": "markdown",
   "id": "27723a61",
   "metadata": {},
   "source": [
    "Manhattan has the highest number of listings, and Brooklyn the second highest. So there is more AirBnB competition in these areas. Again, looking at most-visited NYC neighborhoods data may be helpful in determining if the level of competition shown here is a significant factor to consider when determining where to purchase a property. Staten Island and the Bronx have very few listings, so depending on how often people visit these areas, these may be worthwhile locations to consider purchasing a property in given the lesser competition."
   ]
  },
  {
   "cell_type": "markdown",
   "id": "334a0729",
   "metadata": {},
   "source": [
    "## Visualize the Percentage of NYC AirBnB Listings by Borough"
   ]
  },
  {
   "cell_type": "markdown",
   "id": "2ce926a5",
   "metadata": {},
   "source": [
    "We can use the previously defined variables for creating this pie chart. "
   ]
  },
  {
   "cell_type": "code",
   "execution_count": 54,
   "id": "869110d9",
   "metadata": {},
   "outputs": [
    {
     "data": {
      "image/png": "[encoded data removed]",
      "text/plain": [
       "<Figure size 640x480 with 1 Axes>"
      ]
     },
     "metadata": {},
     "output_type": "display_data"
    }
   ],
   "source": [
    "plt.pie(listing_counts, labels = neighborhoods,  colors=[\"#3B4E68\", \"#FD9096\", \"#E2D9CA\", \"#6A4973\", \"#4A94A8\"], autopct='%1.1f%%', pctdistance=1.1, labeldistance=1.22)\n",
    "plt.show()"
   ]
  },
  {
   "cell_type": "markdown",
   "id": "6c7e99f3",
   "metadata": {},
   "source": [
    "## Visualize the Average Price of Each Listing by Room Type"
   ]
  },
  {
   "cell_type": "code",
   "execution_count": 56,
   "id": "32e00e15",
   "metadata": {},
   "outputs": [
    {
     "name": "stdout",
     "output_type": "stream",
     "text": [
      "['Entire home/apt' 'Private room' 'Shared room']\n"
     ]
    }
   ],
   "source": [
    "print(df['Room Type'].unique())"
   ]
  },
  {
   "cell_type": "code",
   "execution_count": 57,
   "id": "85afe157",
   "metadata": {},
   "outputs": [],
   "source": [
    "avg_entire_price = df.loc[df['Room Type'] == 'Entire home/apt', 'Price'].mean()\n",
    "avg_Manhattan_price = df.loc[df['Room Type'] == 'Private room', 'Price'].mean()\n",
    "avg_Queens_price = df.loc[df['Room Type'] == 'Shared room', 'Price'].mean()"
   ]
  },
  {
   "cell_type": "code",
   "execution_count": 58,
   "id": "3fa8649f",
   "metadata": {},
   "outputs": [
    {
     "data": {
      "image/png": "[encoded data removed]",
      "text/plain": [
       "<Figure size 1000x500 with 1 Axes>"
      ]
     },
     "metadata": {},
     "output_type": "display_data"
    }
   ],
   "source": [
    "# creating the dataset\n",
    "data = {'Entire home/apt': avg_entire_price, 'Private room': avg_Brooklyn_price, 'Shared room': avg_Manhattan_price}\n",
    "data = dict(sorted(data.items(), key=lambda item: item[1]))\n",
    "room_type = list(data.keys())\n",
    "avg_prices = list(data.values())\n",
    "\n",
    "# creating the bar plot\n",
    "sns.set_style(\"dark\", {\"grid.color\": \"#988686\", \"axes.grid\": True, \"axes.facecolor\": \"#222222\", \"axes.edgecolor\":\"#222222\", \"font.family\":\"Franklin Gothic Medium\"})\n",
    "  \n",
    "fig = plt.figure(figsize = (10, 5))\n",
    " \n",
    "# creating the bar plot\n",
    "plt.barh(room_type, avg_prices, color = \"#4A94A8\")\n",
    " \n",
    "plt.xlabel(\"Price\")\n",
    "plt.ylabel(\"Room Type\")\n",
    "plt.title(\"Average AirBnB Listing Prices by Room Type\")\n",
    "plt.show()"
   ]
  },
  {
   "cell_type": "markdown",
   "id": "bc350019",
   "metadata": {},
   "source": [
    "Private room and shared room have the potential to earn more money per night depending on demand for those room types. The property manager might consider who their intended tenants are (families, tourists, business travelers, etc.) that they would like to market to, or if they are flexible on this, they could focus solely on what room type is most in demand in general."
   ]
  },
  {
   "cell_type": "markdown",
   "id": "5e318837",
   "metadata": {},
   "source": [
    "## Visualize the Count of Each Room Type"
   ]
  },
  {
   "cell_type": "code",
   "execution_count": 61,
   "id": "f75ad343",
   "metadata": {},
   "outputs": [],
   "source": [
    "count_entire_home_listings = len(df[df['Room Type']=='Entire home/apt'])\n",
    "count_private_room_listings = len(df[df['Room Type']=='Private room'])\n",
    "count_shared_room_listings = len(df[df['Room Type']=='Shared room'])"
   ]
  },
  {
   "cell_type": "code",
   "execution_count": 62,
   "id": "136375c5",
   "metadata": {},
   "outputs": [
    {
     "data": {
      "image/png": "[encoded data removed]",
      "text/plain": [
       "<Figure size 1000x500 with 1 Axes>"
      ]
     },
     "metadata": {},
     "output_type": "display_data"
    }
   ],
   "source": [
    "data = {'Entire Home/Apt': count_entire_home_listings, 'Private Room': count_private_room_listings, 'Shared Room': count_shared_room_listings}\n",
    "data = dict(sorted(data.items(), key=lambda item: item[1]))\n",
    "room_type = list(data.keys()) \n",
    "listing_counts = list(data.values())\n",
    "  \n",
    "fig = plt.figure(figsize = (10, 5))\n",
    " \n",
    "# creating the bar plot\n",
    "plt.barh(room_type, listing_counts, color = \"#4A94A8\")\n",
    " \n",
    "plt.xlabel(\"Count\")\n",
    "plt.ylabel(\"Room Type\")\n",
    "plt.title(\"Number of Listings for Each Room Type\")\n",
    "plt.show()"
   ]
  },
  {
   "cell_type": "markdown",
   "id": "0ad3e94c",
   "metadata": {},
   "source": [
    "Demand for each room type is again relevant"
   ]
  },
  {
   "cell_type": "markdown",
   "id": "de0a984d",
   "metadata": {},
   "source": [
    "## Visualize the Average Nightly Prices by Room Type and Borough"
   ]
  },
  {
   "cell_type": "markdown",
   "id": "2218e2d7",
   "metadata": {},
   "source": [
    "I want to look at the average nightly price of listings depending on the room type and neighbourhood."
   ]
  },
  {
   "cell_type": "code",
   "execution_count": 66,
   "id": "16d4de6b",
   "metadata": {},
   "outputs": [],
   "source": [
    "avg_Brooklyn_price = df.loc[df['Neighbourhood '] == 'Brooklyn', 'Price'].mean()"
   ]
  },
  {
   "cell_type": "code",
   "execution_count": 67,
   "id": "68b4926d",
   "metadata": {},
   "outputs": [],
   "source": [
    "df_manhattan = df.loc[df['Neighbourhood '] == 'Manhattan']\n",
    "df_manhattan_entire_price_avg = df_manhattan.loc[df_manhattan['Room Type'] == 'Entire home/apt', 'Price'].mean()\n",
    "df_manhattan_private_price_avg = df_manhattan.loc[df_manhattan['Room Type'] == 'Private room', 'Price'].mean()\n",
    "df_manhattan_shared_price_avg = df_manhattan.loc[df_manhattan['Room Type'] == 'Shared room', 'Price'].mean()"
   ]
  },
  {
   "cell_type": "code",
   "execution_count": 68,
   "id": "073ed25d",
   "metadata": {},
   "outputs": [],
   "source": [
    "df_bronx = df.loc[df['Neighbourhood '] == 'Bronx']\n",
    "df_bronx_entire_price_avg = df_bronx.loc[df_bronx['Room Type'] == 'Entire home/apt', 'Price'].mean()\n",
    "df_bronx_private_price_avg = df_bronx.loc[df_bronx['Room Type'] == 'Private room', 'Price'].mean()\n",
    "df_bronx_shared_price_avg = df_bronx.loc[df_bronx['Room Type'] == 'Shared room', 'Price'].mean()"
   ]
  },
  {
   "cell_type": "code",
   "execution_count": 69,
   "id": "0b6a4f3e",
   "metadata": {},
   "outputs": [],
   "source": [
    "df_brooklyn = df.loc[df['Neighbourhood '] == 'Brooklyn']\n",
    "df_brooklyn_entire_price_avg = df_brooklyn.loc[df_brooklyn['Room Type'] == 'Entire home/apt', 'Price'].mean()\n",
    "df_brooklyn_private_price_avg = df_brooklyn.loc[df_brooklyn['Room Type'] == 'Private room', 'Price'].mean()\n",
    "df_brooklyn_shared_price_avg = df_brooklyn.loc[df_brooklyn['Room Type'] == 'Shared room', 'Price'].mean()"
   ]
  },
  {
   "cell_type": "code",
   "execution_count": 70,
   "id": "9dcb8dac",
   "metadata": {},
   "outputs": [],
   "source": [
    "df_staten = df.loc[df['Neighbourhood '] == 'Staten Island']\n",
    "df_staten_entire_price_avg = df_staten.loc[df_staten['Room Type'] == 'Entire home/apt', 'Price'].mean()\n",
    "df_staten_private_price_avg = df_staten.loc[df_staten['Room Type'] == 'Private room', 'Price'].mean()\n",
    "df_staten_shared_price_avg = df_staten.loc[df_staten['Room Type'] == 'Shared room', 'Price'].mean()"
   ]
  },
  {
   "cell_type": "code",
   "execution_count": 71,
   "id": "c443a301",
   "metadata": {},
   "outputs": [],
   "source": [
    "df_queens = df.loc[df['Neighbourhood '] == 'Queens']\n",
    "df_queens_entire_price_avg = df_queens.loc[df_queens['Room Type'] == 'Entire home/apt', 'Price'].mean()\n",
    "df_queens_private_price_avg = df_queens.loc[df_queens['Room Type'] == 'Private room', 'Price'].mean()\n",
    "df_queens_shared_price_avg = df_queens.loc[df_queens['Room Type'] == 'Shared room', 'Price'].mean()"
   ]
  },
  {
   "cell_type": "code",
   "execution_count": 72,
   "id": "a5bcaab8",
   "metadata": {},
   "outputs": [
    {
     "name": "stdout",
     "output_type": "stream",
     "text": [
      "['Brooklyn' 'Manhattan' 'Queens' 'Bronx' 'Staten Island']\n"
     ]
    }
   ],
   "source": [
    "neighbourhoods = df['Neighbourhood '].unique() \n",
    "print(neighbourhoods)"
   ]
  },
  {
   "cell_type": "code",
   "execution_count": 73,
   "id": "866352c0",
   "metadata": {
    "scrolled": true
   },
   "outputs": [
    {
     "data": {
      "image/png": "[encoded data removed]",
      "text/plain": [
       "<Figure size 640x480 with 1 Axes>"
      ]
     },
     "metadata": {},
     "output_type": "display_data"
    }
   ],
   "source": [
    "entire_avgs = [df_staten_entire_price_avg, df_manhattan_entire_price_avg, df_brooklyn_entire_price_avg, df_bronx_entire_price_avg, df_queens_entire_price_avg]\n",
    "private_avgs = [df_staten_private_price_avg, df_manhattan_private_price_avg, df_brooklyn_private_price_avg, df_bronx_private_price_avg, df_queens_private_price_avg]\n",
    "shared_avgs = [df_staten_shared_price_avg, df_manhattan_shared_price_avg, df_brooklyn_shared_price_avg, df_bronx_shared_price_avg, df_queens_shared_price_avg]\n",
    "\n",
    "X_axis = np.arange(len(neighbourhoods))\n",
    "\n",
    "# creating the bar plot\n",
    "sns.set_style(\"dark\", {\"grid.color\": \"#988686\", \"axes.grid\": True, \"axes.facecolor\": \"#222222\", \"axes.edgecolor\":\"#222222\", \"font.family\":\"Franklin Gothic Medium\"})\n",
    "\n",
    "plt.bar(X_axis - 0.2, entire_avgs, 0.2, label = 'Entire House/Apartment', color = \"#4A94A8\")\n",
    "plt.bar(X_axis, private_avgs, 0.2, label = 'Private Room', color = \"#6A4973\")\n",
    "plt.bar(X_axis + 0.2, shared_avgs, 0.2, label = 'Shared Room', color = \"#E2D9CA\")\n",
    "\n",
    "plt.grid(axis=\"x\")\n",
    "plt.xticks(X_axis, neighbourhoods)\n",
    "plt.xlabel(\"Neighbourhood\")\n",
    "plt.ylabel(\"Price\")\n",
    "plt.ylim(0, 375)\n",
    "plt.title(\"Average Nightly Prices of NYC AirBnB Listings by Room Type\", fontsize=14)\n",
    "plt.legend(loc='upper right', labelcolor = 'white')\n",
    "plt.show()"
   ]
  },
  {
   "cell_type": "markdown",
   "id": "7af1cdb8",
   "metadata": {},
   "source": [
    "Staten Island has the highest nightly listing price for entire homes. There is minimal difference in nightly price for single rooms or shared rooms based on neighborhood. It would be useful to gather data related to prices of units for purchase to further evaluate which neighborhood may yield the highest longterm profits. Also, additional data related to most visited neighborhoods in NYC may be beneficial in this regard. We found earlier that Staten Island has the least number of listings, which might make it easier for the property manager to compete depending on demand levels."
   ]
  },
  {
   "cell_type": "markdown",
   "id": "a7a76eb5",
   "metadata": {},
   "source": [
    "I want to look at the count of listings depending on the room type and neighbourhood."
   ]
  },
  {
   "cell_type": "code",
   "execution_count": 76,
   "id": "7665e399",
   "metadata": {},
   "outputs": [],
   "source": [
    "df_manhattan_entire_count = len(df_manhattan.loc[df_manhattan['Room Type'] == 'Entire home/apt'])\n",
    "df_manhattan_private_count = len(df_manhattan.loc[df_manhattan['Room Type'] == 'Private room'])\n",
    "df_manhattan_shared_count = len(df_manhattan.loc[df_manhattan['Room Type'] == 'Shared room'])"
   ]
  },
  {
   "cell_type": "code",
   "execution_count": 77,
   "id": "53835b13",
   "metadata": {},
   "outputs": [],
   "source": [
    "df_bronx_entire_count = len(df_bronx.loc[df_bronx['Room Type'] == 'Entire home/apt'])\n",
    "df_bronx_private_count = len(df_bronx.loc[df_bronx['Room Type'] == 'Private room'])\n",
    "df_bronx_shared_count = len(df_bronx.loc[df_bronx['Room Type'] == 'Shared room'])"
   ]
  },
  {
   "cell_type": "code",
   "execution_count": 78,
   "id": "f7a235ec",
   "metadata": {},
   "outputs": [],
   "source": [
    "df_brooklyn_entire_count = len(df_brooklyn.loc[df_brooklyn['Room Type'] == 'Entire home/apt'])\n",
    "df_brooklyn_private_count = len(df_brooklyn.loc[df_brooklyn['Room Type'] == 'Private room'])\n",
    "df_brooklyn_shared_count = len(df_brooklyn.loc[df_brooklyn['Room Type'] == 'Shared room'])"
   ]
  },
  {
   "cell_type": "code",
   "execution_count": 79,
   "id": "e0330b10",
   "metadata": {},
   "outputs": [],
   "source": [
    "df_staten_entire_count = len(df_staten.loc[df_staten['Room Type'] == 'Entire home/apt'])\n",
    "df_staten_private_count = len(df_staten.loc[df_staten['Room Type'] == 'Private room'])\n",
    "df_staten_shared_count = len(df_staten.loc[df_staten['Room Type'] == 'Shared room'])"
   ]
  },
  {
   "cell_type": "code",
   "execution_count": 80,
   "id": "e2c74600",
   "metadata": {},
   "outputs": [],
   "source": [
    "df_queens_entire_count = len(df_queens.loc[df_queens['Room Type'] == 'Entire home/apt'])\n",
    "df_queens_private_count = len(df_queens.loc[df_queens['Room Type'] == 'Private room'])\n",
    "df_queens_shared_count = len(df_queens.loc[df_queens['Room Type'] == 'Shared room'])"
   ]
  },
  {
   "cell_type": "code",
   "execution_count": 81,
   "id": "d1e7cca4",
   "metadata": {},
   "outputs": [
    {
     "name": "stdout",
     "output_type": "stream",
     "text": [
      "[0 1 2 3 4]\n"
     ]
    },
    {
     "data": {
      "image/png": "[encoded data removed]",
      "text/plain": [
       "<Figure size 640x480 with 1 Axes>"
      ]
     },
     "metadata": {},
     "output_type": "display_data"
    }
   ],
   "source": [
    "entire_count = [df_brooklyn_entire_count, df_manhattan_entire_count, df_queens_entire_count, df_bronx_entire_count, df_staten_entire_count]\n",
    "private_count = [df_brooklyn_private_count, df_manhattan_private_count, df_queens_private_count, df_bronx_private_count, df_staten_private_count]\n",
    "shared_count = [df_brooklyn_shared_count, df_manhattan_shared_count, df_queens_shared_count, df_bronx_shared_count, df_staten_shared_count]\n",
    "\n",
    "X_axis = np.arange(len(neighbourhoods))\n",
    "print(X_axis)\n",
    "\n",
    "plt.bar(X_axis - 0.2, entire_count, 0.2, label = 'Entire House/Apartment', color = \"#4A94A8\")\n",
    "plt.bar(X_axis, private_count, 0.2, label = 'Private Room', color = \"#6A4973\")\n",
    "plt.bar(X_axis + 0.2, shared_count, 0.2, label = 'Shared Room', color = \"#E2D9CA\")\n",
    "  \n",
    "plt.xticks(X_axis, neighbourhoods)\n",
    "plt.xlabel(\"Neighbourhoods\")\n",
    "plt.ylabel(\"Count\")\n",
    "plt.title(\"Count of NYC AirBnB Listings by Borough\")\n",
    "plt.legend(loc='upper right', labelcolor = \"white\")\n",
    "plt.show()"
   ]
  }
 ],
 "metadata": {
  "kernelspec": {
   "display_name": "Python 3",
   "language": "python",
   "name": "python3"
  },
  "language_info": {
   "codemirror_mode": {
    "name": "ipython",
    "version": 3
   },
   "file_extension": ".py",
   "mimetype": "text/x-python",
   "name": "python",
   "nbconvert_exporter": "python",
   "pygments_lexer": "ipython3",
   "version": "3.12.4"
  }
 },
 "nbformat": 4,
 "nbformat_minor": 5
}
